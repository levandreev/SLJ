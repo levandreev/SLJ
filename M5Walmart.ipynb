{
  "nbformat": 4,
  "nbformat_minor": 0,
  "metadata": {
    "colab": {
      "name": "Untitled1.ipynb",
      "provenance": [],
      "mount_file_id": "https://github.com/levandreev/SLJ/blob/master/Untitled1.ipynb",
      "authorship_tag": "ABX9TyOWkuYYmJREV2rBFDnXdkEy",
      "include_colab_link": true
    },
    "kernelspec": {
      "name": "python3",
      "display_name": "Python 3"
    }
  },
  "cells": [
    {
      "cell_type": "markdown",
      "metadata": {
        "id": "view-in-github",
        "colab_type": "text"
      },
      "source": [
        "<a href=\"https://colab.research.google.com/github/levandreev/SLJ/blob/master/M5Walmart.ipynb\" target=\"_parent\"><img src=\"https://colab.research.google.com/assets/colab-badge.svg\" alt=\"Open In Colab\"/></a>"
      ]
    },
    {
      "cell_type": "code",
      "metadata": {
        "id": "KF0Vv1Ma5l4i",
        "colab_type": "code",
        "colab": {}
      },
      "source": [
        "import pandas as pd"
      ],
      "execution_count": 5,
      "outputs": []
    },
    {
      "cell_type": "markdown",
      "metadata": {
        "id": "5xZX_eXxHc5i",
        "colab_type": "text"
      },
      "source": [
        "Run the cell below if you have the required datasets **locally** in the **data** folder"
      ]
    },
    {
      "cell_type": "code",
      "metadata": {
        "id": "SaYLw8DfHaqU",
        "colab_type": "code",
        "colab": {}
      },
      "source": [
        "calendar = pd.read_csv('data/calendar.csv')\n",
        "sell_prices = pd.read_csv('data/sell_prices.csv')\n",
        "sales_train_eval = pd.read_csv('data/sales_train_evaluation.csv')\n",
        "sales_train_val = pd.read_csv('data/sales_train_validation.csv')\n",
        "sample = pd.read_csv('data/sample_submission.csv')"
      ],
      "execution_count": 6,
      "outputs": []
    },
    {
      "cell_type": "markdown",
      "metadata": {
        "id": "Yiphc6RmH08u",
        "colab_type": "text"
      },
      "source": [
        "Run the cell if you **do not have** the required datasets and want them to load **remotely**"
      ]
    },
    {
      "cell_type": "code",
      "metadata": {
        "id": "-Z1RVsitH0q9",
        "colab_type": "code",
        "colab": {}
      },
      "source": [
        "calendar = pd.read_csv('https://storage.googleapis.com/kagglesdsdata/competitions/18599/1236839/calendar.csv?GoogleAccessId=web-data@kaggle-161607.iam.gserviceaccount.com&Expires=1593273380&Signature=U9Hvg48TY9D2HMmodlyA1gzGL9F1lMwo%2FyyKsz7Umr79cDGU8ToW9w34d3ChjmaCmyO0n2rVZtDe2ajYxjk5HWe1EIlTca2HbznUepNQkknPcrJgndbAwc1dQeZhRF%2FIbR7D2QuwI3rOBy%2BmjM9OgYMBDvNySORtShgXq%2FZAJQbRNQA3IzQ1TyRtGTncAAgryjUlljI0QCwjsa0VEXcUG6p%2FykahO%2FmUuYgqztROG7Xh5TlWGNfjacs24QguDZGbPY0sRW0KBzxVp9lfGSu7%2BPHcMfcgiOlTGqilqOqTbrBN13xIaqg6X7IVLczBHmneUK7RQwKoH%2B0htKXdn3GoGQ%3D%3D&response-content-disposition=attachment%3B+filename%3Dcalendar.csv')\n",
        "sell_prices = pd.read_csv('https://storage.googleapis.com/kaggle-competitions-data/kaggle-v2/18599/1236839/compressed/sell_prices.csv.zip?GoogleAccessId=web-data@kaggle-161607.iam.gserviceaccount.com&Expires=1593273974&Signature=FdlWKwiDP0jZOqSv1nYS0MAOsjmtUi47Nj%2BhWP%2BznvmohqRDCuZAWbuS5LBlOrvBo4eO0Q%2FWocER0eer6yi0iZNrkORfID2q2FSMMvHnr6YOZzE1Fs4sWY4s88FNVW956uuzWrqnDWEf8FjX0dQ%2Fxxv1u4ehRfhvLbKFBD0DENLq1qyn54l%2FSYCGdXorr%2BUeu%2Fd5irEzZ8bSbY%2F2Bj3MU1wIVWhcQ49wtMTyVflIQVqjZDxtcO7lcWwd7%2BNCuT%2BnaAW%2F29UO0U7h37N1d%2FdhwA0pvI6ARKlPLf5R98OCzYM%2FWYX%2B8oB9LhClWhXuz8upkLVe1quiT1ldPaz51NbRbA%3D%3D&response-content-disposition=attachment%3B+filename%3Dsell_prices.csv.zip')\n",
        "sales_train_eval = pd.read_csv('https://storage.googleapis.com/kaggle-competitions-data/kaggle-v2/18599/1236839/compressed/sales_train_evaluation.csv.zip?GoogleAccessId=web-data@kaggle-161607.iam.gserviceaccount.com&Expires=1593274049&Signature=Ixbf%2BcH0YbU4U8ZpCYzxv7bPjFNmmWgo69D%2BYLXO%2FWMhTi51mxpcvYpuep7ALmLWarFYu9DjFjYlFBKVARDTtJRa%2BMOkupn3uzBvnQTmmlp2NQOgkKDPv%2B0V3EXBRYFbHmrql%2BlWOVID8XCVcO47o%2BQAsWW5QEovsVv6o1C7SX822ufVhhAkl%2FsvrILCD52CqWhap39OJ94fWIBvAx54Qr1R9C7KNLYw8PzEBxwy93ePWI5VsJy%2BTImzEswHGnU8O%2Bv5Ci%2FDSUX9EwW7YuyGWr%2FR1N2CdstDNKdMhnkvbKfxl7Ys96a%2BxwdiKi5gjKaGbedJ%2Fgw7eDZW%2FONbyO%2F67w%3D%3D&response-content-disposition=attachment%3B+filename%3Dsales_train_evaluation.csv.zip')\n",
        "sales_train_val = pd.read_csv('https://storage.googleapis.com/kaggle-competitions-data/kaggle-v2/18599/1236839/compressed/sales_train_validation.csv.zip?GoogleAccessId=web-data@kaggle-161607.iam.gserviceaccount.com&Expires=1593274086&Signature=AXD5iMT%2FXnyPkL1E2JEUhNi7IvMwR8QbqWRf%2FndCxTXz6K5OXab5qlLO798g%2BmV6GoBuC86KVU0Zr5YVTB2Hmk%2BDBK8zOp86UwTBvk73Dsqjz%2F5EYdfQACqGjFodp6A%2BtW20ubzlFoFXQL%2BsOKv3CH6JuPhTmauXWEBWEbf0ii%2F3adBmSECBNkY2JXW3hvN2oMldFTnTyGfSgku4RFPMXEtukE44yaBJHWEkBCLU4bTG2r9u1lYE3dMz7Q5Zj%2F%2Fc85OIHTpapeeBe78TJWESyrJF9KMulqyDhMCQS%2BqEzP5e7Y4Nye3fTtmZDkO5vMV258otQqOtoo1SG%2BC6wZ1WnA%3D%3D&response-content-disposition=attachment%3B+filename%3Dsales_train_validation.csv.zip')\n",
        "sample = pd.read_csv('https://storage.googleapis.com/kaggle-competitions-data/kaggle-v2/18599/1236839/compressed/sample_submission.csv.zip?GoogleAccessId=web-data@kaggle-161607.iam.gserviceaccount.com&Expires=1593273473&Signature=nHhpli4t2TZSWipLFsPFi6Swcnc1b1ZpQTZM%2FQxu7Ch0UTTYRcl9R6aKxFp8qiOIFhkxLxdYp8H6qOCpL27UfurGbpT5ZksBmHSatqaVub%2FQ61DsnhP921BUSByEW%2BRGUVxBZJfTCpTfaiKSN5xDIQ9IpplDgfjSOGTckCwNW2IhQlXQYr4kcVOYcuoKwGlZ5KHk9A0sO3AnhO57kZx4osEAzu2HUEfuA9TF65I5Kz47stSI8ziwBuDMl2B8S9AQH%2FxrYy3Vo1jlwRv9NquO6s50nxxJ5v9KyLNgaS6Vav0CLwczDH3kPE1vdNjE%2FK%2FSbEzWWQTH644gg5YCGwAYqA%3D%3D&response-content-disposition=attachment%3B+filename%3Dsample_submission.csv.zip')\n"
      ],
      "execution_count": 7,
      "outputs": []
    },
    {
      "cell_type": "code",
      "metadata": {
        "id": "XMV0NDEBBSIj",
        "colab_type": "code",
        "colab": {
          "base_uri": "https://localhost:8080/",
          "height": 233
        },
        "outputId": "92a2cf93-3071-42cc-d9ef-5397bfa72cf1"
      },
      "source": [
        "sample.tail(5)"
      ],
      "execution_count": 10,
      "outputs": [
        {
          "output_type": "execute_result",
          "data": {
            "text/plain": [
              "                                id  F1  F2  F3  F4  F5  F6  F7  F8  F9  ...  \\\n",
              "60975  FOODS_3_823_WI_3_evaluation   0   0   0   0   0   0   0   0   0  ...   \n",
              "60976  FOODS_3_824_WI_3_evaluation   0   0   0   0   0   0   0   0   0  ...   \n",
              "60977  FOODS_3_825_WI_3_evaluation   0   0   0   0   0   0   0   0   0  ...   \n",
              "60978  FOODS_3_826_WI_3_evaluation   0   0   0   0   0   0   0   0   0  ...   \n",
              "60979  FOODS_3_827_WI_3_evaluation   0   0   0   0   0   0   0   0   0  ...   \n",
              "\n",
              "       F19  F20  F21  F22  F23  F24  F25  F26  F27  F28  \n",
              "60975    0    0    0    0    0    0    0    0    0    0  \n",
              "60976    0    0    0    0    0    0    0    0    0    0  \n",
              "60977    0    0    0    0    0    0    0    0    0    0  \n",
              "60978    0    0    0    0    0    0    0    0    0    0  \n",
              "60979    0    0    0    0    0    0    0    0    0    0  \n",
              "\n",
              "[5 rows x 29 columns]"
            ],
            "text/html": [
              "<div>\n",
              "<style scoped>\n",
              "    .dataframe tbody tr th:only-of-type {\n",
              "        vertical-align: middle;\n",
              "    }\n",
              "\n",
              "    .dataframe tbody tr th {\n",
              "        vertical-align: top;\n",
              "    }\n",
              "\n",
              "    .dataframe thead th {\n",
              "        text-align: right;\n",
              "    }\n",
              "</style>\n",
              "<table border=\"1\" class=\"dataframe\">\n",
              "  <thead>\n",
              "    <tr style=\"text-align: right;\">\n",
              "      <th></th>\n",
              "      <th>id</th>\n",
              "      <th>F1</th>\n",
              "      <th>F2</th>\n",
              "      <th>F3</th>\n",
              "      <th>F4</th>\n",
              "      <th>F5</th>\n",
              "      <th>F6</th>\n",
              "      <th>F7</th>\n",
              "      <th>F8</th>\n",
              "      <th>F9</th>\n",
              "      <th>...</th>\n",
              "      <th>F19</th>\n",
              "      <th>F20</th>\n",
              "      <th>F21</th>\n",
              "      <th>F22</th>\n",
              "      <th>F23</th>\n",
              "      <th>F24</th>\n",
              "      <th>F25</th>\n",
              "      <th>F26</th>\n",
              "      <th>F27</th>\n",
              "      <th>F28</th>\n",
              "    </tr>\n",
              "  </thead>\n",
              "  <tbody>\n",
              "    <tr>\n",
              "      <th>60975</th>\n",
              "      <td>FOODS_3_823_WI_3_evaluation</td>\n",
              "      <td>0</td>\n",
              "      <td>0</td>\n",
              "      <td>0</td>\n",
              "      <td>0</td>\n",
              "      <td>0</td>\n",
              "      <td>0</td>\n",
              "      <td>0</td>\n",
              "      <td>0</td>\n",
              "      <td>0</td>\n",
              "      <td>...</td>\n",
              "      <td>0</td>\n",
              "      <td>0</td>\n",
              "      <td>0</td>\n",
              "      <td>0</td>\n",
              "      <td>0</td>\n",
              "      <td>0</td>\n",
              "      <td>0</td>\n",
              "      <td>0</td>\n",
              "      <td>0</td>\n",
              "      <td>0</td>\n",
              "    </tr>\n",
              "    <tr>\n",
              "      <th>60976</th>\n",
              "      <td>FOODS_3_824_WI_3_evaluation</td>\n",
              "      <td>0</td>\n",
              "      <td>0</td>\n",
              "      <td>0</td>\n",
              "      <td>0</td>\n",
              "      <td>0</td>\n",
              "      <td>0</td>\n",
              "      <td>0</td>\n",
              "      <td>0</td>\n",
              "      <td>0</td>\n",
              "      <td>...</td>\n",
              "      <td>0</td>\n",
              "      <td>0</td>\n",
              "      <td>0</td>\n",
              "      <td>0</td>\n",
              "      <td>0</td>\n",
              "      <td>0</td>\n",
              "      <td>0</td>\n",
              "      <td>0</td>\n",
              "      <td>0</td>\n",
              "      <td>0</td>\n",
              "    </tr>\n",
              "    <tr>\n",
              "      <th>60977</th>\n",
              "      <td>FOODS_3_825_WI_3_evaluation</td>\n",
              "      <td>0</td>\n",
              "      <td>0</td>\n",
              "      <td>0</td>\n",
              "      <td>0</td>\n",
              "      <td>0</td>\n",
              "      <td>0</td>\n",
              "      <td>0</td>\n",
              "      <td>0</td>\n",
              "      <td>0</td>\n",
              "      <td>...</td>\n",
              "      <td>0</td>\n",
              "      <td>0</td>\n",
              "      <td>0</td>\n",
              "      <td>0</td>\n",
              "      <td>0</td>\n",
              "      <td>0</td>\n",
              "      <td>0</td>\n",
              "      <td>0</td>\n",
              "      <td>0</td>\n",
              "      <td>0</td>\n",
              "    </tr>\n",
              "    <tr>\n",
              "      <th>60978</th>\n",
              "      <td>FOODS_3_826_WI_3_evaluation</td>\n",
              "      <td>0</td>\n",
              "      <td>0</td>\n",
              "      <td>0</td>\n",
              "      <td>0</td>\n",
              "      <td>0</td>\n",
              "      <td>0</td>\n",
              "      <td>0</td>\n",
              "      <td>0</td>\n",
              "      <td>0</td>\n",
              "      <td>...</td>\n",
              "      <td>0</td>\n",
              "      <td>0</td>\n",
              "      <td>0</td>\n",
              "      <td>0</td>\n",
              "      <td>0</td>\n",
              "      <td>0</td>\n",
              "      <td>0</td>\n",
              "      <td>0</td>\n",
              "      <td>0</td>\n",
              "      <td>0</td>\n",
              "    </tr>\n",
              "    <tr>\n",
              "      <th>60979</th>\n",
              "      <td>FOODS_3_827_WI_3_evaluation</td>\n",
              "      <td>0</td>\n",
              "      <td>0</td>\n",
              "      <td>0</td>\n",
              "      <td>0</td>\n",
              "      <td>0</td>\n",
              "      <td>0</td>\n",
              "      <td>0</td>\n",
              "      <td>0</td>\n",
              "      <td>0</td>\n",
              "      <td>...</td>\n",
              "      <td>0</td>\n",
              "      <td>0</td>\n",
              "      <td>0</td>\n",
              "      <td>0</td>\n",
              "      <td>0</td>\n",
              "      <td>0</td>\n",
              "      <td>0</td>\n",
              "      <td>0</td>\n",
              "      <td>0</td>\n",
              "      <td>0</td>\n",
              "    </tr>\n",
              "  </tbody>\n",
              "</table>\n",
              "<p>5 rows × 29 columns</p>\n",
              "</div>"
            ]
          },
          "metadata": {
            "tags": []
          },
          "execution_count": 10
        }
      ]
    },
    {
      "cell_type": "code",
      "metadata": {
        "id": "WJiNFG-yE-Hj",
        "colab_type": "code",
        "colab": {}
      },
      "source": [
        ""
      ],
      "execution_count": 8,
      "outputs": []
    }
  ]
}